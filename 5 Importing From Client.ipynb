{
 "cells": [
  {
   "cell_type": "code",
   "execution_count": 1,
   "metadata": {},
   "outputs": [
    {
     "name": "stderr",
     "output_type": "stream",
     "text": [
      "\n",
      "Bad key \"text.kerning_factor\" on line 4 in\n",
      "C:\\Users\\Zeus\\Anaconda3\\lib\\site-packages\\matplotlib\\mpl-data\\stylelib\\_classic_test_patch.mplstyle.\n",
      "You probably need to get an updated matplotlibrc file from\n",
      "https://github.com/matplotlib/matplotlib/blob/v3.1.3/matplotlibrc.template\n",
      "or from the matplotlib source distribution\n"
     ]
    }
   ],
   "source": [
    "import h2o\n",
    "import numpy as np\n",
    "import pandas as pd\n",
    "import matplotlib.pyplot as plt"
   ]
  },
  {
   "cell_type": "code",
   "execution_count": 2,
   "metadata": {},
   "outputs": [
    {
     "name": "stdout",
     "output_type": "stream",
     "text": [
      "Checking whether there is an H2O instance running at http://localhost:54321 ..... not found.\n",
      "Attempting to start a local H2O server...\n",
      "; Java HotSpot(TM) 64-Bit Server VM (build 25.261-b12, mixed mode)\n",
      "  Starting server from C:\\Users\\Zeus\\Anaconda3\\lib\\site-packages\\h2o\\backend\\bin\\h2o.jar\n",
      "  Ice root: C:\\Users\\Zeus\\AppData\\Local\\Temp\\tmpnrbacdjj\n",
      "  JVM stdout: C:\\Users\\Zeus\\AppData\\Local\\Temp\\tmpnrbacdjj\\h2o_Zeus_started_from_python.out\n",
      "  JVM stderr: C:\\Users\\Zeus\\AppData\\Local\\Temp\\tmpnrbacdjj\\h2o_Zeus_started_from_python.err\n",
      "  Server is running at http://127.0.0.1:54321\n",
      "Connecting to H2O server at http://127.0.0.1:54321 ... successful.\n"
     ]
    },
    {
     "data": {
      "text/html": [
       "<div style=\"overflow:auto\"><table style=\"width:50%\"><tr><td>H2O_cluster_uptime:</td>\n",
       "<td>04 secs</td></tr>\n",
       "<tr><td>H2O_cluster_timezone:</td>\n",
       "<td>Asia/Kolkata</td></tr>\n",
       "<tr><td>H2O_data_parsing_timezone:</td>\n",
       "<td>UTC</td></tr>\n",
       "<tr><td>H2O_cluster_version:</td>\n",
       "<td>3.30.1.1</td></tr>\n",
       "<tr><td>H2O_cluster_version_age:</td>\n",
       "<td>23 days </td></tr>\n",
       "<tr><td>H2O_cluster_name:</td>\n",
       "<td>H2O_from_python_Zeus_uf0b55</td></tr>\n",
       "<tr><td>H2O_cluster_total_nodes:</td>\n",
       "<td>1</td></tr>\n",
       "<tr><td>H2O_cluster_free_memory:</td>\n",
       "<td>1.757 Gb</td></tr>\n",
       "<tr><td>H2O_cluster_total_cores:</td>\n",
       "<td>4</td></tr>\n",
       "<tr><td>H2O_cluster_allowed_cores:</td>\n",
       "<td>4</td></tr>\n",
       "<tr><td>H2O_cluster_status:</td>\n",
       "<td>accepting new members, healthy</td></tr>\n",
       "<tr><td>H2O_connection_url:</td>\n",
       "<td>http://127.0.0.1:54321</td></tr>\n",
       "<tr><td>H2O_connection_proxy:</td>\n",
       "<td>{\"http\": null, \"https\": null}</td></tr>\n",
       "<tr><td>H2O_internal_security:</td>\n",
       "<td>False</td></tr>\n",
       "<tr><td>H2O_API_Extensions:</td>\n",
       "<td>Amazon S3, Algos, AutoML, Core V3, TargetEncoder, Core V4</td></tr>\n",
       "<tr><td>Python_version:</td>\n",
       "<td>3.7.6 final</td></tr></table></div>"
      ],
      "text/plain": [
       "--------------------------  ---------------------------------------------------------\n",
       "H2O_cluster_uptime:         04 secs\n",
       "H2O_cluster_timezone:       Asia/Kolkata\n",
       "H2O_data_parsing_timezone:  UTC\n",
       "H2O_cluster_version:        3.30.1.1\n",
       "H2O_cluster_version_age:    23 days\n",
       "H2O_cluster_name:           H2O_from_python_Zeus_uf0b55\n",
       "H2O_cluster_total_nodes:    1\n",
       "H2O_cluster_free_memory:    1.757 Gb\n",
       "H2O_cluster_total_cores:    4\n",
       "H2O_cluster_allowed_cores:  4\n",
       "H2O_cluster_status:         accepting new members, healthy\n",
       "H2O_connection_url:         http://127.0.0.1:54321\n",
       "H2O_connection_proxy:       {\"http\": null, \"https\": null}\n",
       "H2O_internal_security:      False\n",
       "H2O_API_Extensions:         Amazon S3, Algos, AutoML, Core V3, TargetEncoder, Core V4\n",
       "Python_version:             3.7.6 final\n",
       "--------------------------  ---------------------------------------------------------"
      ]
     },
     "metadata": {},
     "output_type": "display_data"
    }
   ],
   "source": [
    "h2o.init()"
   ]
  },
  {
   "cell_type": "code",
   "execution_count": 3,
   "metadata": {},
   "outputs": [],
   "source": [
    "x=[z*0.01 for z in range(0,1001)]"
   ]
  },
  {
   "cell_type": "code",
   "execution_count": 4,
   "metadata": {},
   "outputs": [
    {
     "name": "stdout",
     "output_type": "stream",
     "text": [
      "[0.0, 0.01, 0.02, 0.03, 0.04]\n",
      "[9.950000000000001, 9.96, 9.97, 9.98, 9.99, 10.0]\n"
     ]
    }
   ],
   "source": [
    "print(x[0:5])\n",
    "print(x[995:1001])"
   ]
  },
  {
   "cell_type": "code",
   "execution_count": 5,
   "metadata": {},
   "outputs": [],
   "source": [
    "y=np.sin(x)\n",
    "y=y*np.random.normal(0,0.1,len(x))"
   ]
  },
  {
   "cell_type": "code",
   "execution_count": 6,
   "metadata": {},
   "outputs": [
    {
     "data": {
      "image/png": "[encoded data removed]",
      "text/plain": [
       "<Figure size 432x288 with 1 Axes>"
      ]
     },
     "metadata": {
      "needs_background": "light"
     },
     "output_type": "display_data"
    }
   ],
   "source": [
    "plt.plot(x,y)\n",
    "plt.show()"
   ]
  },
  {
   "cell_type": "code",
   "execution_count": 8,
   "metadata": {},
   "outputs": [],
   "source": [
    "sine_wave=pd.DataFrame({\n",
    "    'a':x,\n",
    "    'b':y\n",
    "})"
   ]
  },
  {
   "cell_type": "code",
   "execution_count": 10,
   "metadata": {},
   "outputs": [
    {
     "name": "stdout",
     "output_type": "stream",
     "text": [
      "Parse progress: |█████████████████████████████████████████████████████████| 100%\n"
     ]
    }
   ],
   "source": [
    "sine_wave_h2o=h2o.H2OFrame(sine_wave)"
   ]
  },
  {
   "cell_type": "code",
   "execution_count": 11,
   "metadata": {},
   "outputs": [
    {
     "data": {
      "text/html": [
       "<table>\n",
       "<thead>\n",
       "<tr><th>       </th><th>a                </th><th>b                     </th></tr>\n",
       "</thead>\n",
       "<tbody>\n",
       "<tr><td>type   </td><td>real             </td><td>real                  </td></tr>\n",
       "<tr><td>mins   </td><td>0.0              </td><td>-0.2841547244411764   </td></tr>\n",
       "<tr><td>mean   </td><td>4.999999999999934</td><td>-0.0010473315267748827</td></tr>\n",
       "<tr><td>maxs   </td><td>10.0             </td><td>0.2731262680830996    </td></tr>\n",
       "<tr><td>sigma  </td><td>2.891081112663593</td><td>0.0679303652523651    </td></tr>\n",
       "<tr><td>zeros  </td><td>1                </td><td>1                     </td></tr>\n",
       "<tr><td>missing</td><td>0                </td><td>0                     </td></tr>\n",
       "<tr><td>0      </td><td>0.0              </td><td>0.0                   </td></tr>\n",
       "<tr><td>1      </td><td>0.01             </td><td>-0.0007559155662654658</td></tr>\n",
       "<tr><td>2      </td><td>0.02             </td><td>0.0030302925875423724 </td></tr>\n",
       "<tr><td>3      </td><td>0.03             </td><td>-0.0009182739832041584</td></tr>\n",
       "<tr><td>4      </td><td>0.04             </td><td>-0.0008279507642749195</td></tr>\n",
       "<tr><td>5      </td><td>0.05             </td><td>0.0022742915287668687 </td></tr>\n",
       "<tr><td>6      </td><td>0.06             </td><td>0.001961991573988087  </td></tr>\n",
       "<tr><td>7      </td><td>0.07             </td><td>-0.0029511855675841098</td></tr>\n",
       "<tr><td>8      </td><td>0.08             </td><td>0.005249034049074448  </td></tr>\n",
       "<tr><td>9      </td><td>0.09             </td><td>-0.004591561022669819 </td></tr>\n",
       "</tbody>\n",
       "</table>"
      ]
     },
     "metadata": {},
     "output_type": "display_data"
    }
   ],
   "source": [
    "sine_wave_h2o.summary()"
   ]
  },
  {
   "cell_type": "code",
   "execution_count": 13,
   "metadata": {},
   "outputs": [
    {
     "name": "stdout",
     "output_type": "stream",
     "text": [
      "Parse progress: |█████████████████████████████████████████████████████████| 100%\n"
     ]
    }
   ],
   "source": [
    "sine_wave_h2o=h2o.H2OFrame(sine_wave,\n",
    "                          destination_frame='sine_wave')"
   ]
  },
  {
   "cell_type": "code",
   "execution_count": 14,
   "metadata": {},
   "outputs": [
    {
     "name": "stdout",
     "output_type": "stream",
     "text": [
      "Parse progress: |█████████████████████████████████████████████████████████| 100%\n"
     ]
    }
   ],
   "source": [
    "sine_wave_h2o=h2o.H2OFrame(sine_wave)"
   ]
  },
  {
   "cell_type": "code",
   "execution_count": 15,
   "metadata": {},
   "outputs": [
    {
     "data": {
      "text/html": [
       "<table>\n",
       "<thead>\n",
       "<tr><th>       </th><th>a                </th><th>b                     </th></tr>\n",
       "</thead>\n",
       "<tbody>\n",
       "<tr><td>type   </td><td>real             </td><td>real                  </td></tr>\n",
       "<tr><td>mins   </td><td>0.0              </td><td>-0.2841547244411764   </td></tr>\n",
       "<tr><td>mean   </td><td>4.999999999999934</td><td>-0.0010473315267748827</td></tr>\n",
       "<tr><td>maxs   </td><td>10.0             </td><td>0.2731262680830996    </td></tr>\n",
       "<tr><td>sigma  </td><td>2.891081112663593</td><td>0.0679303652523651    </td></tr>\n",
       "<tr><td>zeros  </td><td>1                </td><td>1                     </td></tr>\n",
       "<tr><td>missing</td><td>0                </td><td>0                     </td></tr>\n",
       "<tr><td>0      </td><td>0.0              </td><td>0.0                   </td></tr>\n",
       "<tr><td>1      </td><td>0.01             </td><td>-0.0007559155662654658</td></tr>\n",
       "<tr><td>2      </td><td>0.02             </td><td>0.0030302925875423724 </td></tr>\n",
       "<tr><td>3      </td><td>0.03             </td><td>-0.0009182739832041584</td></tr>\n",
       "<tr><td>4      </td><td>0.04             </td><td>-0.0008279507642749195</td></tr>\n",
       "<tr><td>5      </td><td>0.05             </td><td>0.0022742915287668687 </td></tr>\n",
       "<tr><td>6      </td><td>0.06             </td><td>0.001961991573988087  </td></tr>\n",
       "<tr><td>7      </td><td>0.07             </td><td>-0.0029511855675841098</td></tr>\n",
       "<tr><td>8      </td><td>0.08             </td><td>0.005249034049074448  </td></tr>\n",
       "<tr><td>9      </td><td>0.09             </td><td>-0.004591561022669819 </td></tr>\n",
       "</tbody>\n",
       "</table>"
      ]
     },
     "metadata": {},
     "output_type": "display_data"
    }
   ],
   "source": [
    "sine_wave_h2o.summary()"
   ]
  },
  {
   "cell_type": "code",
   "execution_count": 16,
   "metadata": {},
   "outputs": [
    {
     "name": "stdout",
     "output_type": "stream",
     "text": [
      "H2O session _sid_a136 closed.\n"
     ]
    }
   ],
   "source": [
    "h2o.cluster().shutdown()"
   ]
  },
  {
   "cell_type": "code",
   "execution_count": null,
   "metadata": {},
   "outputs": [],
   "source": []
  },
  {
   "cell_type": "code",
   "execution_count": null,
   "metadata": {},
   "outputs": [],
   "source": []
  },
  {
   "cell_type": "code",
   "execution_count": null,
   "metadata": {},
   "outputs": [],
   "source": []
  }
 ],
 "metadata": {
  "kernelspec": {
   "display_name": "Python 3",
   "language": "python",
   "name": "python3"
  },
  "language_info": {
   "codemirror_mode": {
    "name": "ipython",
    "version": 3
   },
   "file_extension": ".py",
   "mimetype": "text/x-python",
   "name": "python",
   "nbconvert_exporter": "python",
   "pygments_lexer": "ipython3",
   "version": "3.7.6"
  }
 },
 "nbformat": 4,
 "nbformat_minor": 4
}
